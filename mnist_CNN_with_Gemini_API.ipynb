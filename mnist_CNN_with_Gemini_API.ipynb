{
  "nbformat": 4,
  "nbformat_minor": 0,
  "metadata": {
    "colab": {
      "provenance": [],
      "authorship_tag": "ABX9TyOU2IjRXGjvky4eKvdB6ZZX",
      "include_colab_link": true
    },
    "kernelspec": {
      "name": "python3",
      "display_name": "Python 3"
    },
    "language_info": {
      "name": "python"
    }
  },
  "cells": [
    {
      "cell_type": "markdown",
      "metadata": {
        "id": "view-in-github",
        "colab_type": "text"
      },
      "source": [
        "<a href=\"https://colab.research.google.com/github/katybohanan/5542-cnn-hands-on/blob/main/mnist_CNN_with_Gemini_API.ipynb\" target=\"_parent\"><img src=\"https://colab.research.google.com/assets/colab-badge.svg\" alt=\"Open In Colab\"/></a>"
      ]
    },
    {
      "cell_type": "markdown",
      "source": [
        "##Load Required Libraries"
      ],
      "metadata": {
        "id": "hVDSO5nlPI3j"
      }
    },
    {
      "cell_type": "code",
      "execution_count": 32,
      "metadata": {
        "id": "pTuUFGbHO1Kw"
      },
      "outputs": [],
      "source": [
        "import torch\n",
        "import torch.nn as nn\n",
        "import torch.optim as optim\n",
        "import torchvision\n",
        "import torchvision.transforms as transforms\n",
        "import matplotlib.pyplot as plt\n",
        "import numpy as np\n",
        "import requests\n",
        "import json"
      ]
    },
    {
      "cell_type": "markdown",
      "source": [
        "##Load and Preprocess Data"
      ],
      "metadata": {
        "id": "2IIXMouLPe78"
      }
    },
    {
      "cell_type": "code",
      "source": [
        "transform = transforms.Compose([transforms.ToTensor(),\n",
        "                                transforms.Normalize((0.5,), (0.5,))])\n",
        "\n",
        "\n",
        "trainset = torchvision.datasets.MNIST(root='./data',\n",
        "                                     train=False,\n",
        "                                     download=True,\n",
        "                                     transform=transform)\n",
        "\n",
        "trainloader = torch.utils.data.DataLoader(trainset,\n",
        "                                          batch_size=64,\n",
        "                                          shuffle=True)\n",
        "\n",
        "\n",
        "testset = torchvision.datasets.MNIST(root='./data',\n",
        "                                    train=False,\n",
        "                                    download=True,\n",
        "                                    transform=transform)\n",
        "\n",
        "testloader = torch.utils.data.DataLoader(testset,\n",
        "                                         batch_size=64,\n",
        "                                         shuffle=False)"
      ],
      "metadata": {
        "id": "Qt6QjnK-PiIx"
      },
      "execution_count": 33,
      "outputs": []
    },
    {
      "cell_type": "markdown",
      "source": [
        "##Define CNN model"
      ],
      "metadata": {
        "id": "iC2_oaCuQ3oV"
      }
    },
    {
      "cell_type": "code",
      "source": [
        "class CNN(nn.Module):\n",
        "  def __init__(self):\n",
        "    super(CNN, self).__init__()\n",
        "    self.conv1 = nn.Conv2d(1, 32, kernel_size=3, stride=1, padding=1)\n",
        "    self.pool = nn.MaxPool2d(2, 2)\n",
        "    self.conv2 = nn.Conv2d(32, 64, kernel_size=3, stride=1, padding=1)\n",
        "    self.fc1 = nn.Linear(64 * 7 * 7, 128)\n",
        "    self.fc2 = nn.Linear(128, 10)\n",
        "  def forward(self, x):\n",
        "    x = self.pool(torch.relu(self.conv1(x)))\n",
        "    x = self.pool(torch.relu(self.conv2(x)))\n",
        "    x = x.view(-1, 64 * 7 * 7)\n",
        "    x = torch.relu(self.fc1(x))\n",
        "    x = self.fc2(x)\n",
        "    return x\n",
        "\n",
        "\n",
        "model = CNN()"
      ],
      "metadata": {
        "id": "wvDV6QZcQ6hF"
      },
      "execution_count": 34,
      "outputs": []
    },
    {
      "cell_type": "markdown",
      "source": [
        "##Train the Model"
      ],
      "metadata": {
        "id": "Hi79xJu2RpYN"
      }
    },
    {
      "cell_type": "code",
      "source": [
        "criterion = nn.CrossEntropyLoss()\n",
        "optimizer = optim.Adam(model.parameters(), lr=0.001)\n",
        "\n",
        "for epoch in range(3):\n",
        "  running_loss = 0.0\n",
        "  for images, labels in trainloader:\n",
        "    optimizer.zero_grad()\n",
        "    outputs = model(images)\n",
        "    loss = criterion(outputs, labels)\n",
        "    loss.backward()\n",
        "    optimizer.step()\n",
        "    running_loss += loss.item()\n",
        "\n",
        "  print(f\"Epoch {epoch+1}, Loss: {running_loss/len(trainloader)}\")"
      ],
      "metadata": {
        "colab": {
          "base_uri": "https://localhost:8080/"
        },
        "id": "0ClsNaeWR6zr",
        "outputId": "69fd9beb-c6ae-4d80-f00d-e591cf0ec311"
      },
      "execution_count": 35,
      "outputs": [
        {
          "output_type": "stream",
          "name": "stdout",
          "text": [
            "Epoch 1, Loss: 0.4804255133316775\n",
            "Epoch 2, Loss: 0.11316388838918535\n",
            "Epoch 3, Loss: 0.06017048520504669\n"
          ]
        }
      ]
    },
    {
      "cell_type": "markdown",
      "source": [
        "##Evaluate Performance"
      ],
      "metadata": {
        "id": "X3DTYrQWSdtq"
      }
    },
    {
      "cell_type": "code",
      "source": [
        "correct = 0\n",
        "total = 0\n",
        "\n",
        "with torch.no_grad():\n",
        "  for images, labels in testloader:\n",
        "    outputs = model(images)\n",
        "    _, predicted = torch.max(outputs.data, 1)\n",
        "    total += labels.size(0)\n",
        "    correct += (predicted == labels).sum().item()\n",
        "\n",
        "print(f\"Accuracy on the test set: {100 * correct / total: .2f}%\")"
      ],
      "metadata": {
        "colab": {
          "base_uri": "https://localhost:8080/"
        },
        "id": "OPz5Yah_SgbT",
        "outputId": "9550cd76-b3c8-4937-9990-7573a1c8312a"
      },
      "execution_count": 36,
      "outputs": [
        {
          "output_type": "stream",
          "name": "stdout",
          "text": [
            "Accuracy on the test set:  98.81%\n"
          ]
        }
      ]
    },
    {
      "cell_type": "markdown",
      "source": [
        "##Make a Prediction on an Image"
      ],
      "metadata": {
        "id": "xl_Y0ZqeSv5L"
      }
    },
    {
      "cell_type": "code",
      "source": [
        "import random\n",
        "import matplotlib.pyplot as plt\n",
        "\n",
        "dataiter = iter(testloader)\n",
        "images, labels = next(dataiter)\n",
        "index = random.randint(0, len(images) - 1)\n",
        "img = images[index].squeeze()\n",
        "true_label = labels[index].item()\n",
        "output = model(images[index].unsqueeze(0))\n",
        "predicted_label = torch.argmax(output).item()\n",
        "\n",
        "plt.imshow(img.numpy(), cmap='gray')\n",
        "plt.title(f\"Predicted: {predicted_label}, True: {true_label}\")\n",
        "plt.show()"
      ],
      "metadata": {
        "colab": {
          "base_uri": "https://localhost:8080/",
          "height": 452
        },
        "id": "rZjuZHvgSurV",
        "outputId": "5085f6af-9dab-47aa-f583-c98a01bb9eb2"
      },
      "execution_count": 37,
      "outputs": [
        {
          "output_type": "display_data",
          "data": {
            "text/plain": [
              "<Figure size 640x480 with 1 Axes>"
            ],
            "image/png": "[encoded data removed]"
          },
          "metadata": {}
        }
      ]
    },
    {
      "cell_type": "markdown",
      "source": [
        "##Connect with Gemini API"
      ],
      "metadata": {
        "id": "eYDJ2lOBUyqe"
      }
    },
    {
      "source": [
        "from google.colab import userdata\n",
        "\n",
        "GEMINI_API_KEY = userdata.get('GOOGLE_API_KEY')\n",
        "GEMINI_ENDPOINT = \"https://generativelanguage.googleapis.com/v1beta/models/gemini-1.5-flash:generateContent\"\n",
        "\n",
        "headers = {\n",
        "    \"Content-Type\": \"application/json\"\n",
        "}\n",
        "\n",
        "data = {\n",
        "    \"contents\": [{\"parts\": [{\"text\": f\"The CNN model predicted digit {predicted_label} for an image. Explain why it might have made this prediction.\"}]}]\n",
        "}\n",
        "\n",
        "response = requests.post(f\"{GEMINI_ENDPOINT}?key={GEMINI_API_KEY}\",\n",
        "                        headers=headers, json=data)\n",
        "\n",
        "# Check for successful response before accessing data\n",
        "if response.status_code == 200:\n",
        "    explanation = response.json()[\"candidates\"][0].get(\"content\", {}).get(\"parts\", [{}])[0].get(\"text\", \"No explanation available.\")  # Safely access nested keys\n",
        "    print(\"Gemini Explanation: \", explanation)\n",
        "else:\n",
        "    print(f\"Error: {response.status_code} - {response.text}\")  # Print error details for debugging"
      ],
      "cell_type": "code",
      "metadata": {
        "colab": {
          "base_uri": "https://localhost:8080/"
        },
        "id": "1LXj6Nk8hwyl",
        "outputId": "6327660d-54f6-4223-cac4-3e739dee12f8"
      },
      "execution_count": 38,
      "outputs": [
        {
          "output_type": "stream",
          "name": "stdout",
          "text": [
            "Gemini Explanation:  A CNN might predict the digit 0 for an image even if it's not actually a 0 due to several reasons:\n",
            "\n",
            "**1. Image Quality Issues:**\n",
            "\n",
            "* **Noise:** The image might contain noise (random variations in pixel intensity) that interferes with the CNN's ability to accurately identify features.  Noise can distort the shape and characteristics of the digit, leading to a misclassification.\n",
            "* **Blur:** A blurry image lacks sharp edges and details, making it difficult for the CNN to distinguish between digits.  A blurred 8, for instance, might look enough like a 0 to confuse the model.\n",
            "* **Low Resolution:** Low-resolution images lack sufficient detail, causing the CNN to misinterpret the features.\n",
            "* **Obscuration:** Part of the digit might be obscured or hidden by another object or shadow, making it harder for the CNN to recognize the complete shape.\n",
            "* **Unusual Font or Style:** The digit's style (handwritten, printed, font type) might differ significantly from the styles the CNN was trained on.  A very stylized or unusual 0 might be misclassified.\n",
            "\n",
            "**2. CNN Limitations:**\n",
            "\n",
            "* **Overfitting:** The CNN might have memorized the training data too well, leading to poor generalization to unseen images.  This means it performs well on the training data but poorly on new data, potentially mistaking other digits for 0.\n",
            "* **Underfitting:** The CNN might not have been trained sufficiently or with enough data, leading to a lack of ability to learn the subtle differences between digits.\n",
            "* **Architectural Limitations:** The CNN architecture itself might not be suitable for distinguishing between similar-looking digits.  A simpler or less deep network may not capture the necessary features.\n",
            "* **Weight Initialization:** Poor initialization of the CNN's weights can lead to suboptimal performance and incorrect predictions.\n",
            "* **Bias in Training Data:** If the training data had an imbalance (e.g., many examples of 0s but few of other digits), the CNN might be biased towards predicting 0.\n",
            "\n",
            "**3.  Specific Feature Confusion:**\n",
            "\n",
            "* **Similarity to other Digits:** Some digits like 6, 8, and 9 can share visual similarities with 0 under certain circumstances (e.g., a poorly written 6 or 9 might resemble a 0).  The CNN might mistakenly interpret these similar features as belonging to a 0.\n",
            "\n",
            "\n",
            "To diagnose the specific reason, one would need to examine the image itself, the CNN's architecture, the training data, and potentially use techniques like visualizing the CNN's activations to understand which features it was focusing on when making the prediction.\n",
            "\n"
          ]
        }
      ]
    },
    {
      "cell_type": "markdown",
      "source": [
        "##CIFAR-10 Classification"
      ],
      "metadata": {
        "id": "m-TufxzkYtuC"
      }
    },
    {
      "cell_type": "code",
      "source": [
        "transform = transforms.Compose([transforms.ToTensor(),\n",
        "                                transforms.Normalize((0.5,), (0.5,))])\n",
        "\n",
        "\n",
        "trainset = torchvision.datasets.CIFAR10(root='./data',\n",
        "                                     train=False,\n",
        "                                     download=True,\n",
        "                                     transform=transform)\n",
        "\n",
        "trainloader = torch.utils.data.DataLoader(trainset,\n",
        "                                          batch_size=64,\n",
        "                                          shuffle=True)\n",
        "\n",
        "\n",
        "testset = torchvision.datasets.CIFAR10(root='./data',\n",
        "                                    train=False,\n",
        "                                    download=True,\n",
        "                                    transform=transform)\n",
        "\n",
        "testloader = torch.utils.data.DataLoader(testset,\n",
        "                                         batch_size=64,\n",
        "                                         shuffle=False)"
      ],
      "metadata": {
        "colab": {
          "base_uri": "https://localhost:8080/"
        },
        "id": "d0H2_Y1OjP2k",
        "outputId": "afe97afb-46a7-4d89-a0b4-e7fa06429da3"
      },
      "execution_count": 39,
      "outputs": [
        {
          "output_type": "stream",
          "name": "stdout",
          "text": [
            "Files already downloaded and verified\n",
            "Files already downloaded and verified\n"
          ]
        }
      ]
    },
    {
      "cell_type": "code",
      "source": [
        "class CIFARCNN(nn.Module):\n",
        "  def __init__(self):\n",
        "    super(CIFARCNN, self).__init__()\n",
        "    self.conv1 = nn.Conv2d(3, 32, kernel_size=3, stride=1, padding=1)\n",
        "    self.bn1 = nn.BatchNorm2d(32)\n",
        "    self.pool = nn.MaxPool2d(2, 2)\n",
        "    self.conv2 = nn.Conv2d(32, 64, kernel_size=3, stride=1, padding=1)\n",
        "    self.bn2 = nn.BatchNorm2d(64)\n",
        "    self.fc1 = nn.Linear(64 * 8 * 8, 128)\n",
        "    self.fc2 = nn.Linear(128, 64)\n",
        "    self.fc3 = nn.Linear(64, 10)\n",
        "\n",
        "  def forward(self, x):\n",
        "    x = self.pool(torch.relu(self.bn1(self.conv1(x))))\n",
        "    x = self.pool(torch.relu(self.bn2(self.conv2(x))))\n",
        "    x = x.view(-1, 64 * 8 * 8)\n",
        "    x = torch.relu(self.fc1(x))\n",
        "    x = torch.relu(self.fc2(x))\n",
        "    x = self.fc3(x)\n",
        "    return x\n",
        "\n",
        "model_cifar = CIFARCNN()"
      ],
      "metadata": {
        "id": "We1RF0EpYtVw"
      },
      "execution_count": 40,
      "outputs": []
    },
    {
      "cell_type": "markdown",
      "source": [
        "##Train model"
      ],
      "metadata": {
        "id": "W8OvpBgvZ8pB"
      }
    },
    {
      "cell_type": "code",
      "source": [
        "criterion = nn.CrossEntropyLoss()\n",
        "optimizer = optim.Adam(model_cifar.parameters(), lr=0.001)\n",
        "\n",
        "for epoch in range(2):\n",
        "  running_loss = 0.0\n",
        "  for images, labels in trainloader:\n",
        "    optimizer.zero_grad()\n",
        "    outputs = model_cifar(images)\n",
        "    loss = criterion(outputs, labels)\n",
        "    loss.backward()\n",
        "    optimizer.step()\n",
        "    running_loss += loss.item()\n",
        "\n",
        "  print(f\"Epoch {epoch+1}, Loss: {running_loss/len(trainloader)}\")"
      ],
      "metadata": {
        "colab": {
          "base_uri": "https://localhost:8080/"
        },
        "outputId": "f4ea00eb-5a87-4484-b3a7-51046fc60df4",
        "id": "hUUIFYj0ZubF"
      },
      "execution_count": 41,
      "outputs": [
        {
          "output_type": "stream",
          "name": "stdout",
          "text": [
            "Epoch 1, Loss: 1.604252337650129\n",
            "Epoch 2, Loss: 1.2143414134432555\n"
          ]
        }
      ]
    },
    {
      "cell_type": "markdown",
      "source": [
        "##Evaluate Performance"
      ],
      "metadata": {
        "id": "eYltc3LSZ_FS"
      }
    },
    {
      "cell_type": "code",
      "source": [
        "correct = 0\n",
        "total = 0\n",
        "\n",
        "with torch.no_grad():\n",
        "  for images, labels in testloader:\n",
        "    outputs = model_cifar(images)\n",
        "    _, predicted = torch.max(outputs.data, 1)\n",
        "    total += labels.size(0)\n",
        "    correct += (predicted == labels).sum().item()\n",
        "\n",
        "print(f\"Accuracy on the test set: {100 * correct / total: .2f}%\")"
      ],
      "metadata": {
        "colab": {
          "base_uri": "https://localhost:8080/"
        },
        "outputId": "2944f143-b86b-42d7-ae05-e48662532bf8",
        "id": "xlZTCrLtZ0TP"
      },
      "execution_count": 42,
      "outputs": [
        {
          "output_type": "stream",
          "name": "stdout",
          "text": [
            "Accuracy on the test set:  61.58%\n"
          ]
        }
      ]
    },
    {
      "cell_type": "markdown",
      "source": [
        "##Make prediction"
      ],
      "metadata": {
        "id": "Y-Og4aDFaE2S"
      }
    },
    {
      "cell_type": "code",
      "source": [
        "import random\n",
        "import matplotlib.pyplot as plt\n",
        "\n",
        "dataiter = iter(testloader)\n",
        "images, labels = next(dataiter)\n",
        "index = random.randint(0, len(images) - 1)\n",
        "img = images[index].squeeze()\n",
        "true_label = labels[index].item()\n",
        "true_label = trainset.classes[true_label]\n",
        "output = model_cifar(images[index].unsqueeze(0))\n",
        "predicted_label = torch.argmax(output).item()\n",
        "predicted_label = trainset.classes[predicted_label]\n",
        "\n",
        "# Permute the dimensions of the image to (height, width, channels)\n",
        "img = img.permute(1, 2, 0)\n",
        "\n",
        "plt.imshow(img.numpy())\n",
        "plt.title(f\"Predicted: {predicted_label}, True: {true_label}\")\n",
        "plt.show()\n"
      ],
      "metadata": {
        "colab": {
          "base_uri": "https://localhost:8080/",
          "height": 489
        },
        "outputId": "d8babaae-55b2-4117-a090-2fb018183925",
        "id": "h50OTUCuZ4GK"
      },
      "execution_count": 43,
      "outputs": [
        {
          "output_type": "stream",
          "name": "stderr",
          "text": [
            "WARNING:matplotlib.image:Clipping input data to the valid range for imshow with RGB data ([0..1] for floats or [0..255] for integers). Got range [-0.96862745..0.8980392].\n"
          ]
        },
        {
          "output_type": "display_data",
          "data": {
            "text/plain": [
              "<Figure size 640x480 with 1 Axes>"
            ],
            "image/png": "[encoded data removed]"
          },
          "metadata": {}
        }
      ]
    },
    {
      "source": [
        "from google.colab import userdata\n",
        "\n",
        "GEMINI_API_KEY = userdata.get('GOOGLE_API_KEY')\n",
        "GEMINI_ENDPOINT = \"https://generativelanguage.googleapis.com/v1beta/models/gemini-1.5-flash:generateContent\"\n",
        "\n",
        "headers = {\n",
        "    \"Content-Type\": \"application/json\"\n",
        "}\n",
        "\n",
        "data = {\n",
        "    \"contents\": [{\"parts\": [{\"text\": f\"The CNN model predicted digit {predicted_label} for an image. Explain why it might have made this prediction.\"}]}]\n",
        "}\n",
        "\n",
        "response = requests.post(f\"{GEMINI_ENDPOINT}?key={GEMINI_API_KEY}\",\n",
        "                        headers=headers, json=data)\n",
        "\n",
        "# Check for successful response before accessing data\n",
        "if response.status_code == 200:\n",
        "    explanation = response.json()[\"candidates\"][0].get(\"content\", {}).get(\"parts\", [{}])[0].get(\"text\", \"No explanation available.\")  # Safely access nested keys\n",
        "    print(\"Gemini Explanation: \", explanation)\n",
        "else:\n",
        "    print(f\"Error: {response.status_code} - {response.text}\")  # Print error details for debugging"
      ],
      "cell_type": "code",
      "metadata": {
        "colab": {
          "base_uri": "https://localhost:8080/"
        },
        "outputId": "c951279c-9585-48dc-ad2d-1f4e00983e5a",
        "id": "RgW9-UXFaliB"
      },
      "execution_count": 44,
      "outputs": [
        {
          "output_type": "stream",
          "name": "stdout",
          "text": [
            "Gemini Explanation:  A CNN model predicting \"digit bird\" for an image suggests a fascinating failure mode stemming from a combination of factors:\n",
            "\n",
            "* **Feature Confusion:** CNNs learn features hierarchically.  Lower layers might detect simple edges and curves, while higher layers combine these into more complex shapes like circles, lines, and angles.  A digit (especially certain handwritten ones like 0, 6, or 8) and a bird (depending on the angle and style of the image) might share low-level features.  The CNN might have incorrectly linked these overlapping low-level features to both categories, leading to a hallucinated combination.  For example, a circular shape in the image could be interpreted as both the body of a bird and the loop of a digit 0 or 6.\n",
            "\n",
            "* **Insufficient Training Data:** If the training dataset lacked sufficient examples of birds and digits that looked similar, the model may not have learned to adequately distinguish them, especially in cases of ambiguous or noisy images.  A lack of negative examples showing images that *aren't* both a digit and a bird could also lead to this error.\n",
            "\n",
            "* **Overfitting:** An overfitted model might have memorized the training data too closely, focusing on irrelevant details or spurious correlations. This means it performs well on the training data but poorly on unseen data, leading to unpredictable and nonsensical predictions like \"digit bird.\"\n",
            "\n",
            "* **Data Augmentation Issues:** If data augmentation (e.g., rotation, cropping) was applied inconsistently or incorrectly, it might have created ambiguous examples that confused the model.  A rotated digit might appear bird-like, and the model, trained on this augmented data, could wrongly associate such features with both categories.\n",
            "\n",
            "* **Architectural Limitations:** The specific architecture of the CNN might be insufficient for handling the complexity of classifying images with such overlapping features.  A deeper or more sophisticated model might be needed to disentangle the features correctly.\n",
            "\n",
            "* **Noisy Image:** The input image itself might be blurry, low-resolution, or otherwise noisy, making it difficult even for a human to confidently classify. The CNN might be amplifying the ambiguity present in the input.\n",
            "\n",
            "In essence, the \"digit bird\" prediction highlights a situation where the CNN identified features consistent with *both* digits and birds, failing to properly discriminate between the two distinct classes due to one or more of the reasons listed above.  Analyzing the model's internal representations (e.g., feature maps) and the training data would be necessary to pinpoint the precise cause of this failure.\n",
            "\n"
          ]
        }
      ]
    }
  ]
}